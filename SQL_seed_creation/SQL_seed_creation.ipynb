{
 "cells": [
  {
   "cell_type": "code",
   "execution_count": 1,
   "metadata": {},
   "outputs": [],
   "source": [
    "import pandas as pd\n",
    "import numpy as np\n",
    "from glob import glob\n",
    "import re"
   ]
  },
  {
   "cell_type": "code",
   "execution_count": 89,
   "metadata": {},
   "outputs": [],
   "source": [
    "users=pd.read_csv('db_csv/users.csv')\n",
    "maps=pd.read_csv('db_csv/maps.csv')\n",
    "locations=pd.read_csv('db_csv/locations.csv')\n",
    "favourites=pd.read_csv('db_csv/favourites.csv')"
   ]
  },
  {
   "cell_type": "code",
   "execution_count": 90,
   "metadata": {},
   "outputs": [
    {
     "name": "stdout",
     "output_type": "stream",
     "text": [
      "(3, 4)\n",
      "(9, 6)\n",
      "(60, 9)\n",
      "(7, 3)\n"
     ]
    }
   ],
   "source": [
    "print(users.shape)\n",
    "print(maps.shape)\n",
    "print(locations.shape)\n",
    "print(favourites.shape)"
   ]
  },
  {
   "cell_type": "code",
   "execution_count": 39,
   "metadata": {},
   "outputs": [
    {
     "data": {
      "text/html": [
       "<div>\n",
       "<style scoped>\n",
       "    .dataframe tbody tr th:only-of-type {\n",
       "        vertical-align: middle;\n",
       "    }\n",
       "\n",
       "    .dataframe tbody tr th {\n",
       "        vertical-align: top;\n",
       "    }\n",
       "\n",
       "    .dataframe thead th {\n",
       "        text-align: right;\n",
       "    }\n",
       "</style>\n",
       "<table border=\"1\" class=\"dataframe\">\n",
       "  <thead>\n",
       "    <tr style=\"text-align: right;\">\n",
       "      <th></th>\n",
       "      <th>id</th>\n",
       "      <th>username</th>\n",
       "      <th>email</th>\n",
       "      <th>password</th>\n",
       "    </tr>\n",
       "  </thead>\n",
       "  <tbody>\n",
       "    <tr>\n",
       "      <th>0</th>\n",
       "      <td>1</td>\n",
       "      <td>alibas</td>\n",
       "      <td>alibas01@gmail.com</td>\n",
       "      <td>12qw</td>\n",
       "    </tr>\n",
       "    <tr>\n",
       "      <th>1</th>\n",
       "      <td>2</td>\n",
       "      <td>hoopengsun</td>\n",
       "      <td>sunhaopeng2016@gmail.com</td>\n",
       "      <td>12qw</td>\n",
       "    </tr>\n",
       "    <tr>\n",
       "      <th>2</th>\n",
       "      <td>3</td>\n",
       "      <td>perrydefayette</td>\n",
       "      <td>defayetteperry@gmail.com</td>\n",
       "      <td>12qw</td>\n",
       "    </tr>\n",
       "  </tbody>\n",
       "</table>\n",
       "</div>"
      ],
      "text/plain": [
       "   id        username                     email password\n",
       "0   1          alibas        alibas01@gmail.com     12qw\n",
       "1   2      hoopengsun  sunhaopeng2016@gmail.com     12qw\n",
       "2   3  perrydefayette  defayetteperry@gmail.com     12qw"
      ]
     },
     "execution_count": 39,
     "metadata": {},
     "output_type": "execute_result"
    }
   ],
   "source": [
    "users.head()"
   ]
  },
  {
   "cell_type": "code",
   "execution_count": 40,
   "metadata": {},
   "outputs": [
    {
     "data": {
      "text/html": [
       "<div>\n",
       "<style scoped>\n",
       "    .dataframe tbody tr th:only-of-type {\n",
       "        vertical-align: middle;\n",
       "    }\n",
       "\n",
       "    .dataframe tbody tr th {\n",
       "        vertical-align: top;\n",
       "    }\n",
       "\n",
       "    .dataframe thead th {\n",
       "        text-align: right;\n",
       "    }\n",
       "</style>\n",
       "<table border=\"1\" class=\"dataframe\">\n",
       "  <thead>\n",
       "    <tr style=\"text-align: right;\">\n",
       "      <th></th>\n",
       "      <th>id</th>\n",
       "      <th>user_id</th>\n",
       "      <th>title</th>\n",
       "      <th>city</th>\n",
       "      <th>last_updated_at</th>\n",
       "      <th>isPublic</th>\n",
       "    </tr>\n",
       "  </thead>\n",
       "  <tbody>\n",
       "    <tr>\n",
       "      <th>0</th>\n",
       "      <td>1</td>\n",
       "      <td>1</td>\n",
       "      <td>Best Kebab Restaurants</td>\n",
       "      <td>toronto</td>\n",
       "      <td>NaN</td>\n",
       "      <td>True</td>\n",
       "    </tr>\n",
       "    <tr>\n",
       "      <th>1</th>\n",
       "      <td>2</td>\n",
       "      <td>1</td>\n",
       "      <td>Relatives' Houses</td>\n",
       "      <td>toronto</td>\n",
       "      <td>NaN</td>\n",
       "      <td>False</td>\n",
       "    </tr>\n",
       "    <tr>\n",
       "      <th>2</th>\n",
       "      <td>3</td>\n",
       "      <td>1</td>\n",
       "      <td>Ottawa Touristic Places</td>\n",
       "      <td>ottawa</td>\n",
       "      <td>NaN</td>\n",
       "      <td>True</td>\n",
       "    </tr>\n",
       "    <tr>\n",
       "      <th>3</th>\n",
       "      <td>4</td>\n",
       "      <td>2</td>\n",
       "      <td>GTA Colleges</td>\n",
       "      <td>toronto</td>\n",
       "      <td>NaN</td>\n",
       "      <td>True</td>\n",
       "    </tr>\n",
       "    <tr>\n",
       "      <th>4</th>\n",
       "      <td>5</td>\n",
       "      <td>2</td>\n",
       "      <td>Beaches</td>\n",
       "      <td>toronto</td>\n",
       "      <td>NaN</td>\n",
       "      <td>False</td>\n",
       "    </tr>\n",
       "  </tbody>\n",
       "</table>\n",
       "</div>"
      ],
      "text/plain": [
       "   id  user_id                    title     city  last_updated_at  isPublic\n",
       "0   1        1   Best Kebab Restaurants  toronto              NaN      True\n",
       "1   2        1        Relatives' Houses  toronto              NaN     False\n",
       "2   3        1  Ottawa Touristic Places   ottawa              NaN      True\n",
       "3   4        2             GTA Colleges  toronto              NaN      True\n",
       "4   5        2                  Beaches  toronto              NaN     False"
      ]
     },
     "execution_count": 40,
     "metadata": {},
     "output_type": "execute_result"
    }
   ],
   "source": [
    "maps.head()"
   ]
  },
  {
   "cell_type": "code",
   "execution_count": 19,
   "metadata": {},
   "outputs": [
    {
     "data": {
      "text/html": [
       "<div>\n",
       "<style scoped>\n",
       "    .dataframe tbody tr th:only-of-type {\n",
       "        vertical-align: middle;\n",
       "    }\n",
       "\n",
       "    .dataframe tbody tr th {\n",
       "        vertical-align: top;\n",
       "    }\n",
       "\n",
       "    .dataframe thead th {\n",
       "        text-align: right;\n",
       "    }\n",
       "</style>\n",
       "<table border=\"1\" class=\"dataframe\">\n",
       "  <thead>\n",
       "    <tr style=\"text-align: right;\">\n",
       "      <th></th>\n",
       "      <th>id</th>\n",
       "      <th>name</th>\n",
       "      <th>map_id</th>\n",
       "      <th>lat</th>\n",
       "      <th>long</th>\n",
       "      <th>user_id</th>\n",
       "      <th>picture_url</th>\n",
       "      <th>description</th>\n",
       "      <th>website</th>\n",
       "    </tr>\n",
       "  </thead>\n",
       "  <tbody>\n",
       "    <tr>\n",
       "      <th>0</th>\n",
       "      <td>1</td>\n",
       "      <td>Efes Kebab House</td>\n",
       "      <td>1</td>\n",
       "      <td>43.680319</td>\n",
       "      <td>-79.338381</td>\n",
       "      <td>1</td>\n",
       "      <td>NaN</td>\n",
       "      <td>NaN</td>\n",
       "      <td>NaN</td>\n",
       "    </tr>\n",
       "    <tr>\n",
       "      <th>1</th>\n",
       "      <td>2</td>\n",
       "      <td>Istanbul Kebab House</td>\n",
       "      <td>1</td>\n",
       "      <td>43.608676</td>\n",
       "      <td>-79.584433</td>\n",
       "      <td>1</td>\n",
       "      <td>NaN</td>\n",
       "      <td>NaN</td>\n",
       "      <td>NaN</td>\n",
       "    </tr>\n",
       "    <tr>\n",
       "      <th>2</th>\n",
       "      <td>3</td>\n",
       "      <td>Kebab 49</td>\n",
       "      <td>1</td>\n",
       "      <td>43.635900</td>\n",
       "      <td>-79.540639</td>\n",
       "      <td>1</td>\n",
       "      <td>NaN</td>\n",
       "      <td>NaN</td>\n",
       "      <td>NaN</td>\n",
       "    </tr>\n",
       "    <tr>\n",
       "      <th>3</th>\n",
       "      <td>4</td>\n",
       "      <td>Mustafa Kebab Doner</td>\n",
       "      <td>1</td>\n",
       "      <td>43.730619</td>\n",
       "      <td>-79.468009</td>\n",
       "      <td>1</td>\n",
       "      <td>NaN</td>\n",
       "      <td>NaN</td>\n",
       "      <td>NaN</td>\n",
       "    </tr>\n",
       "    <tr>\n",
       "      <th>4</th>\n",
       "      <td>5</td>\n",
       "      <td>Paramount Middle Eastern Kitchen</td>\n",
       "      <td>1</td>\n",
       "      <td>43.616988</td>\n",
       "      <td>-79.542061</td>\n",
       "      <td>1</td>\n",
       "      <td>NaN</td>\n",
       "      <td>NaN</td>\n",
       "      <td>NaN</td>\n",
       "    </tr>\n",
       "  </tbody>\n",
       "</table>\n",
       "</div>"
      ],
      "text/plain": [
       "   id                              name  map_id       lat        long  \\\n",
       "0   1                  Efes Kebab House       1  43.680319 -79.338381   \n",
       "1   2              Istanbul Kebab House       1  43.608676 -79.584433   \n",
       "2   3                          Kebab 49       1  43.635900 -79.540639   \n",
       "3   4               Mustafa Kebab Doner       1  43.730619 -79.468009   \n",
       "4   5  Paramount Middle Eastern Kitchen       1  43.616988 -79.542061   \n",
       "\n",
       "   user_id  picture_url  description  website  \n",
       "0        1          NaN          NaN      NaN  \n",
       "1        1          NaN          NaN      NaN  \n",
       "2        1          NaN          NaN      NaN  \n",
       "3        1          NaN          NaN      NaN  \n",
       "4        1          NaN          NaN      NaN  "
      ]
     },
     "execution_count": 19,
     "metadata": {},
     "output_type": "execute_result"
    }
   ],
   "source": [
    "locations.head()"
   ]
  },
  {
   "cell_type": "code",
   "execution_count": 91,
   "metadata": {},
   "outputs": [],
   "source": [
    "def sql_command(table, name):\n",
    "    filename = name + '.txt'\n",
    "    col_names = table.columns\n",
    "    intro = 'INSERT INTO ' + name + ' ('\n",
    "    for value in col_names:\n",
    "        if value != col_names[-1]:\n",
    "            value = value + ', '\n",
    "        intro += value\n",
    "    intro += ') VALUES ('\n",
    "    \n",
    "    result = ''\n",
    "    for index, row in table.iterrows(): \n",
    "        result += intro\n",
    "        for column in col_names:\n",
    "            val = str(table[column][index])\n",
    "            if column != col_names[-1]:\n",
    "                val = val + ', '\n",
    "            result += val\n",
    "        result += ');\\n'\n",
    "    file = open(filename, 'w+')\n",
    "    file.write(result)"
   ]
  },
  {
   "cell_type": "code",
   "execution_count": 82,
   "metadata": {},
   "outputs": [],
   "source": [
    "sql_command(users, 'users')"
   ]
  },
  {
   "cell_type": "code",
   "execution_count": 86,
   "metadata": {},
   "outputs": [],
   "source": [
    "sql_command(maps, 'maps')"
   ]
  },
  {
   "cell_type": "code",
   "execution_count": 92,
   "metadata": {},
   "outputs": [],
   "source": [
    "sql_command(locations, 'locations')"
   ]
  },
  {
   "cell_type": "code",
   "execution_count": 93,
   "metadata": {},
   "outputs": [],
   "source": [
    "sql_command(favourites, 'favourites')"
   ]
  },
  {
   "cell_type": "code",
   "execution_count": null,
   "metadata": {},
   "outputs": [],
   "source": []
  }
 ],
 "metadata": {
  "kernelspec": {
   "display_name": "Python 3",
   "language": "python",
   "name": "python3"
  },
  "language_info": {
   "codemirror_mode": {
    "name": "ipython",
    "version": 3
   },
   "file_extension": ".py",
   "mimetype": "text/x-python",
   "name": "python",
   "nbconvert_exporter": "python",
   "pygments_lexer": "ipython3",
   "version": "3.8.5"
  }
 },
 "nbformat": 4,
 "nbformat_minor": 4
}
